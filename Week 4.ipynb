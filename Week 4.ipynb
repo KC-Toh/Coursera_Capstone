{
    "cells": [
        {
            "cell_type": "markdown",
            "metadata": {
                "collapsed": true
            },
            "source": "# Capstone Project "
        },
        {
            "cell_type": "markdown",
            "metadata": {},
            "source": "### The Battle of Neighborhoods (Week 1)"
        },
        {
            "cell_type": "markdown",
            "metadata": {},
            "source": "___Opening a New Thai Restaurant in New York City___"
        },
        {
            "cell_type": "markdown",
            "metadata": {},
            "source": "#### Problem Background"
        },
        {
            "cell_type": "markdown",
            "metadata": {},
            "source": "New York City (NYC) is the most populous city in the United States and is the largest metropolitan area in the world. It is the most ethnically diverse, religiously varied, commercially driven, famously congested urban centre in the country. The diverse and inclusive city provides a business friendly environment which allows different players from variety fields to develop their markets in New York City. The top industries are finance, trade, healthcare, real estate, media, publishing, manufacturing and information technology.\n\nIt represents that New York City is a globally competitive working city. Therefore, any new business venture and expansion should be planned with a secure and proper analysis. An insight with a better understanding will target market strategically in order to reduce potential risk and to have a stable return.\n"
        },
        {
            "cell_type": "markdown",
            "metadata": {},
            "source": "#### Problem Description"
        },
        {
            "cell_type": "markdown",
            "metadata": {},
            "source": "Restaurants are businesses which are providing cooked food and not raw goods to customers in return of money. Many cuisines of New York City are sourced various ethnic groups in this multicultural city. Almost all ethnic cuisines are well represented in New York City.\n\nThe aim of this capstone project is to analyse, explore and select the best location for opening a new Thai restaurant. So, this report is targeted specifically to stakeholders who intended to start new business venture by run a Thai restaurant. The first move is always important so a choice of location is a critical consideration in the plan.\n"
        },
        {
            "cell_type": "markdown",
            "metadata": {},
            "source": "#### Data"
        },
        {
            "cell_type": "markdown",
            "metadata": {},
            "source": "Based on the problem defined above, we will need the following data:\n- List of the boroughs and neighbourhoods in New York City. It is used to understand the scope and size of the New York City.\n- Latitude and longitude of each neighbourhood. It is purposed to get venue data and also to plot the map.\n- Population density of each borough. It is to have a better understanding the future market demand.\n- Number of Thai restaurants in each neighbourhood or each borough.\n- Venue data related Thai restaurants only. They will be performed for the clustering on the neighbourhoods.\n"
        },
        {
            "cell_type": "markdown",
            "metadata": {},
            "source": "Following data sources will be extracted to get the required information:\n- Borough data of New York City from Wikipedia: https://en.wikipedia.org/wiki/New_York_City#Boroughs. The data will be used to determine the population by borough.\n- Latitude and longitude of each neighbourhood data are taken from https://geo.nyu.edu/catalog/nyu_2451_34572 . It will determine geographical coordinates of neighbourhoods. \n- Foursquare API will be used to get venue data and to find restaurant information, particularly in Thai restaurants. After that, it will be worked as data cleaning, data wrangling, machine learning (K-Cluster), and map visualization (Folium).\n"
        },
        {
            "cell_type": "code",
            "execution_count": null,
            "metadata": {},
            "outputs": [],
            "source": ""
        }
    ],
    "metadata": {
        "kernelspec": {
            "display_name": "Python 3.7",
            "language": "python",
            "name": "python3"
        },
        "language_info": {
            "codemirror_mode": {
                "name": "ipython",
                "version": 3
            },
            "file_extension": ".py",
            "mimetype": "text/x-python",
            "name": "python",
            "nbconvert_exporter": "python",
            "pygments_lexer": "ipython3",
            "version": "3.7.10"
        }
    },
    "nbformat": 4,
    "nbformat_minor": 1
}