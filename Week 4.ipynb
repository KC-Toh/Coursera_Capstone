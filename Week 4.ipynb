{
    "cells": [
        {
            "cell_type": "markdown",
            "metadata": {
                "collapsed": true
            },
            "source": "# Capstone Project "
        },
        {
            "cell_type": "markdown",
            "metadata": {},
            "source": "### The Battle of Neighborhoods (Week 1)"
        },
        {
            "cell_type": "markdown",
            "metadata": {},
            "source": "___Opening a New Thai Restaurant in New York City___"
        },
        {
            "cell_type": "markdown",
            "metadata": {},
            "source": "#### Introduction"
        },
        {
            "cell_type": "markdown",
            "metadata": {},
            "source": "New York City (NYC) is the most populous city in the United States and is the largest metropolitan area in the world. It is the most ethnically diverse, religiously varied, commercially driven, famously congested urban centre in the country. The diverse and inclusive city provides a business friendly environment which allows different players from variety fields to develop their markets in New York City. The top industries are finance, trade, healthcare, real estate, media, publishing, manufacturing and information technology.\n\nIt represents that New York City is a globally competitive working city. Therefore, any new business venture and expansion should be planned with a secure and proper analysis. An insight with a better understanding will target market strategically in order to reduce potential risk and to have a stable return.\n"
        },
        {
            "cell_type": "markdown",
            "metadata": {},
            "source": "#### Business Problem"
        },
        {
            "cell_type": "markdown",
            "metadata": {},
            "source": "Restaurants are businesses which are providing cooked food and not raw goods to customers in return of money. Many cuisines of New York City are sourced various ethnic groups in this multicultural city. Almost all ethnic cuisines are well represented in New York City.\n\nThe aim of this capstone project is to analyse, explore and select the best location for opening a new Thai restaurant. So, this report is targeted specifically to stakeholders who intended to start new business venture by run a Thai restaurant. The first move is always important so a choice of location is a critical consideration in the plan.\n"
        },
        {
            "cell_type": "markdown",
            "metadata": {},
            "source": "#### Target Audience of This Report"
        },
        {
            "cell_type": "markdown",
            "metadata": {},
            "source": "This project is useful for investors or caterers who are looking for an opportunity in opening a Thai Restaurant in New York City.  Eater NY reported that more than one year after New York\u2019s first indoor dining shutdown, restaurants and bars continue to close their doors. At least 1,000 have closed since March 2020 due to the economic downturn caused by the coronavirus pandemic. The number of restaurant job losses to date is 122,400 or -48% from March 2020 to January 2021. Thus, placing business in a strategic location is a key ingredient in a business's success by attracting a customer base."
        },
        {
            "cell_type": "markdown",
            "metadata": {},
            "source": "#### Data"
        },
        {
            "cell_type": "markdown",
            "metadata": {},
            "source": "Based on the problem defined above, we will need the following data:\n- List of the boroughs and neighbourhoods in New York City. It is used to understand the scope and size of the New York City.\n- Latitude and longitude of each neighbourhood. It is purposed to get venue data and also to plot the map.\n- Population density of each borough. It is to have a better understanding the future market demand.\n- Number of Thai restaurants in each neighbourhood or each borough.\n- Venue data related Thai restaurants only. They will be performed for the clustering on the neighbourhoods.\n"
        },
        {
            "cell_type": "markdown",
            "metadata": {},
            "source": "Following data sources will be extracted to get the required information:"
        },
        {
            "cell_type": "markdown",
            "metadata": {},
            "source": "- Scrape borough data from https://en.wikipedia.org/wiki/New_York_City#Boroughs. \n    \n     The Wikipedia table\u2019s data will be used to determine the population and density of the New York City\u2019s five boroughs.\n    \n    \n    \n- Download data from https://geo.nyu.edu/catalog/nyu_2451_34572 . \n        \n     It will determine geographical coordinates of neighbourhoods:\n        \n            Latitude : Latitude for Neighbourhood\n            Longitude : Longitude for Neighbourhood\n            Neighbourhood: Name of Neighbourhood\n            Borough: Name of Borough\n\n\n- Foursquare API \n       \n     It will be used to get locational data and to find restaurant information, particularly in Thai restaurants:\n\n        Neighbourhood : Name of the Neighbourhood\n        Neighbourhood Latitude : Latitude of the Neighbourhood\n        Neighbourhood Longitude : Longitude of the Neighbourhood\n        Venue : Name of the Venue\n        Venue Latitude : Latitude of Venue\n        Venue Longitude : Longitude of Venue\n        Venue Category : Category of Venue\n\n     After that, it will be worked as data cleaning, data wrangling, machine learning (K-Cluster), and map visualization (Folium)."
        }
    ],
    "metadata": {
        "kernelspec": {
            "display_name": "Python 3.7",
            "language": "python",
            "name": "python3"
        },
        "language_info": {
            "codemirror_mode": {
                "name": "ipython",
                "version": 3
            },
            "file_extension": ".py",
            "mimetype": "text/x-python",
            "name": "python",
            "nbconvert_exporter": "python",
            "pygments_lexer": "ipython3",
            "version": "3.7.10"
        }
    },
    "nbformat": 4,
    "nbformat_minor": 1
}